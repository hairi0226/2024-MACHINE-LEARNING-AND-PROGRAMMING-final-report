{
  "nbformat": 4,
  "nbformat_minor": 0,
  "metadata": {
    "colab": {
      "provenance": []
    },
    "kernelspec": {
      "name": "python3",
      "display_name": "Python 3"
    },
    "language_info": {
      "name": "python"
    }
  },
  "cells": [
    {
      "cell_type": "code",
      "execution_count": null,
      "metadata": {
        "colab": {
          "base_uri": "https://localhost:8080/"
        },
        "id": "-rRzYeNa0GIF",
        "outputId": "d1288899-6fdc-4934-d4f9-5a2117f6fc93"
      },
      "outputs": [
        {
          "output_type": "stream",
          "name": "stdout",
          "text": [
            "Collecting pydub\n",
            "  Downloading pydub-0.25.1-py2.py3-none-any.whl (32 kB)\n",
            "Installing collected packages: pydub\n",
            "Successfully installed pydub-0.25.1\n",
            "Collecting audiomentations\n",
            "  Downloading audiomentations-0.35.0-py3-none-any.whl (82 kB)\n",
            "\u001b[2K     \u001b[90m━━━━━━━━━━━━━━━━━━━━━━━━━━━━━━━━━━━━━━━━\u001b[0m \u001b[32m82.3/82.3 kB\u001b[0m \u001b[31m1.0 MB/s\u001b[0m eta \u001b[36m0:00:00\u001b[0m\n",
            "\u001b[?25hRequirement already satisfied: numpy>=1.21.0 in /usr/local/lib/python3.10/dist-packages (from audiomentations) (1.25.2)\n",
            "Requirement already satisfied: librosa!=0.10.0,<0.11.0,>=0.8.0 in /usr/local/lib/python3.10/dist-packages (from audiomentations) (0.10.2.post1)\n",
            "Requirement already satisfied: scipy<2,>=1.4.0 in /usr/local/lib/python3.10/dist-packages (from audiomentations) (1.11.4)\n",
            "Requirement already satisfied: soxr<1.0.0,>=0.3.2 in /usr/local/lib/python3.10/dist-packages (from audiomentations) (0.3.7)\n",
            "Requirement already satisfied: audioread>=2.1.9 in /usr/local/lib/python3.10/dist-packages (from librosa!=0.10.0,<0.11.0,>=0.8.0->audiomentations) (3.0.1)\n",
            "Requirement already satisfied: scikit-learn>=0.20.0 in /usr/local/lib/python3.10/dist-packages (from librosa!=0.10.0,<0.11.0,>=0.8.0->audiomentations) (1.2.2)\n",
            "Requirement already satisfied: joblib>=0.14 in /usr/local/lib/python3.10/dist-packages (from librosa!=0.10.0,<0.11.0,>=0.8.0->audiomentations) (1.4.2)\n",
            "Requirement already satisfied: decorator>=4.3.0 in /usr/local/lib/python3.10/dist-packages (from librosa!=0.10.0,<0.11.0,>=0.8.0->audiomentations) (4.4.2)\n",
            "Requirement already satisfied: numba>=0.51.0 in /usr/local/lib/python3.10/dist-packages (from librosa!=0.10.0,<0.11.0,>=0.8.0->audiomentations) (0.58.1)\n",
            "Requirement already satisfied: soundfile>=0.12.1 in /usr/local/lib/python3.10/dist-packages (from librosa!=0.10.0,<0.11.0,>=0.8.0->audiomentations) (0.12.1)\n",
            "Requirement already satisfied: pooch>=1.1 in /usr/local/lib/python3.10/dist-packages (from librosa!=0.10.0,<0.11.0,>=0.8.0->audiomentations) (1.8.1)\n",
            "Requirement already satisfied: typing-extensions>=4.1.1 in /usr/local/lib/python3.10/dist-packages (from librosa!=0.10.0,<0.11.0,>=0.8.0->audiomentations) (4.11.0)\n",
            "Requirement already satisfied: lazy-loader>=0.1 in /usr/local/lib/python3.10/dist-packages (from librosa!=0.10.0,<0.11.0,>=0.8.0->audiomentations) (0.4)\n",
            "Requirement already satisfied: msgpack>=1.0 in /usr/local/lib/python3.10/dist-packages (from librosa!=0.10.0,<0.11.0,>=0.8.0->audiomentations) (1.0.8)\n",
            "Requirement already satisfied: packaging in /usr/local/lib/python3.10/dist-packages (from lazy-loader>=0.1->librosa!=0.10.0,<0.11.0,>=0.8.0->audiomentations) (24.0)\n",
            "Requirement already satisfied: llvmlite<0.42,>=0.41.0dev0 in /usr/local/lib/python3.10/dist-packages (from numba>=0.51.0->librosa!=0.10.0,<0.11.0,>=0.8.0->audiomentations) (0.41.1)\n",
            "Requirement already satisfied: platformdirs>=2.5.0 in /usr/local/lib/python3.10/dist-packages (from pooch>=1.1->librosa!=0.10.0,<0.11.0,>=0.8.0->audiomentations) (4.2.2)\n",
            "Requirement already satisfied: requests>=2.19.0 in /usr/local/lib/python3.10/dist-packages (from pooch>=1.1->librosa!=0.10.0,<0.11.0,>=0.8.0->audiomentations) (2.31.0)\n",
            "Requirement already satisfied: threadpoolctl>=2.0.0 in /usr/local/lib/python3.10/dist-packages (from scikit-learn>=0.20.0->librosa!=0.10.0,<0.11.0,>=0.8.0->audiomentations) (3.5.0)\n",
            "Requirement already satisfied: cffi>=1.0 in /usr/local/lib/python3.10/dist-packages (from soundfile>=0.12.1->librosa!=0.10.0,<0.11.0,>=0.8.0->audiomentations) (1.16.0)\n",
            "Requirement already satisfied: pycparser in /usr/local/lib/python3.10/dist-packages (from cffi>=1.0->soundfile>=0.12.1->librosa!=0.10.0,<0.11.0,>=0.8.0->audiomentations) (2.22)\n",
            "Requirement already satisfied: charset-normalizer<4,>=2 in /usr/local/lib/python3.10/dist-packages (from requests>=2.19.0->pooch>=1.1->librosa!=0.10.0,<0.11.0,>=0.8.0->audiomentations) (3.3.2)\n",
            "Requirement already satisfied: idna<4,>=2.5 in /usr/local/lib/python3.10/dist-packages (from requests>=2.19.0->pooch>=1.1->librosa!=0.10.0,<0.11.0,>=0.8.0->audiomentations) (3.7)\n",
            "Requirement already satisfied: urllib3<3,>=1.21.1 in /usr/local/lib/python3.10/dist-packages (from requests>=2.19.0->pooch>=1.1->librosa!=0.10.0,<0.11.0,>=0.8.0->audiomentations) (2.0.7)\n",
            "Requirement already satisfied: certifi>=2017.4.17 in /usr/local/lib/python3.10/dist-packages (from requests>=2.19.0->pooch>=1.1->librosa!=0.10.0,<0.11.0,>=0.8.0->audiomentations) (2024.2.2)\n",
            "Installing collected packages: audiomentations\n",
            "Successfully installed audiomentations-0.35.0\n"
          ]
        }
      ],
      "source": [
        "!pip install pydub\n",
        "!pip install audiomentations"
      ]
    },
    {
      "cell_type": "code",
      "source": [
        "from google.colab import drive\n",
        "drive.mount('/content/drive')\n"
      ],
      "metadata": {
        "colab": {
          "base_uri": "https://localhost:8080/"
        },
        "id": "uOayvZfX0Lxc",
        "outputId": "7f5ce987-be92-49c6-ea5a-eda96c14a73c"
      },
      "execution_count": null,
      "outputs": [
        {
          "output_type": "stream",
          "name": "stdout",
          "text": [
            "Mounted at /content/drive\n"
          ]
        }
      ]
    },
    {
      "cell_type": "code",
      "source": [
        "import os\n",
        "import shutil\n",
        "import random\n",
        "from pydub import AudioSegment\n",
        "from audiomentations import Compose, AddGaussianNoise, TimeStretch, PitchShift\n",
        "import numpy as np"
      ],
      "metadata": {
        "id": "AWVhl1sz0LvN"
      },
      "execution_count": null,
      "outputs": []
    },
    {
      "cell_type": "code",
      "source": [
        "input_folder = \"/content/drive/MyDrive/mlcourse_finalresult/0602_15000val_audio_sample\"\n",
        "output_folder = \"/content/drive/MyDrive/mlcourse_finalresult/0602_15000_audio_sample_augmented\"\n",
        "\n",
        "\n",
        "if not os.path.exists(output_folder):\n",
        "    os.makedirs(output_folder)\n",
        "\n",
        "audio_files = [file for file in os.listdir(input_folder) if file.endswith(\".wav\")]\n",
        "\n"
      ],
      "metadata": {
        "colab": {
          "base_uri": "https://localhost:8080/"
        },
        "id": "35VRd7ku0LsI",
        "outputId": "ad74fb1a-3c6c-45aa-aa5e-d089b74fcd42",
        "collapsed": true
      },
      "execution_count": null,
      "outputs": [
        {
          "output_type": "stream",
          "name": "stdout",
          "text": [
            "前5个音频文件:\n",
            "['노인남여_노인대화71_F_milkgirl999_65_경상_실내_77817.wav', '노인남여_노인대화64_F_samjeon814_61_수도권_실내_70835.wav', '노인남여_노인대화46_F_jihun1495_63_수도권_실내_51485.wav', '노인남여_노인대화12_M_YSD00_68_경상_녹음실_15277.wav', '노인남여_노인대화07_M_1527864598_70_강원_실내_08320.wav']\n",
            "总共有15000个音频文件\n"
          ]
        }
      ]
    },
    {
      "cell_type": "code",
      "source": [
        "audio_files = os.listdir(input_folder)\n",
        "\n",
        "random.shuffle(audio_files)\n",
        "\n",
        "num_files = len(audio_files)\n",
        "num_files_per_part = num_files // 4"
      ],
      "metadata": {
        "id": "GKj4DazU1_DZ"
      },
      "execution_count": null,
      "outputs": []
    },
    {
      "cell_type": "code",
      "source": [
        "# data augmentation\n",
        "augment_noise = Compose([\n",
        "    AddGaussianNoise(min_amplitude=0.0001, max_amplitude=0.001, p=1.0)\n",
        "])\n",
        "augment_reverb = Compose([\n",
        "    TimeStretch(min_rate=0.95, max_rate=1.05, p=1.0)\n",
        "])\n",
        "augment_distortion = Compose([\n",
        "    PitchShift(min_semitones=-1, max_semitones=1, p=1.0)\n",
        "])"
      ],
      "metadata": {
        "id": "ehMa2c4g0Lpk"
      },
      "execution_count": null,
      "outputs": []
    },
    {
      "cell_type": "code",
      "source": [
        "\n",
        "def apply_augmentation(augmentation, input_path, output_path):\n",
        "    audio = AudioSegment.from_file(input_path)\n",
        "    samples = audio.get_array_of_samples()\n",
        "    sample_rate = audio.frame_rate\n",
        "\n",
        "    samples = np.array(samples).astype(np.float32) / 32768.0\n",
        "    if augmentation is not None:\n",
        "        augmented_samples = augmentation(samples=samples, sample_rate=sample_rate)\n",
        "    else:\n",
        "        augmented_samples = samples\n",
        "    augmented_samples = (augmented_samples * 32768.0).astype(np.int16)\n",
        "\n",
        "    augmented_audio = AudioSegment(\n",
        "        data=augmented_samples.tobytes(),\n",
        "        sample_width=audio.sample_width,\n",
        "        frame_rate=audio.frame_rate,\n",
        "        channels=audio.channels\n",
        "    )\n",
        "\n",
        "    augmented_audio.export(output_path, format=\"wav\")\n",
        "\n",
        "\n",
        "for i, audio_file in enumerate(audio_files):\n",
        "\n",
        "    src_path = os.path.join(input_folder, audio_file)\n",
        "    dst_path = os.path.join(output_folder, audio_file)\n",
        "\n",
        "    if i < num_files_per_part:\n",
        "        apply_augmentation(None, src_path, dst_path)\n",
        "    elif i < num_files_per_part * 2:\n",
        "        apply_augmentation(augment_noise, src_path, dst_path)\n",
        "    elif i < num_files_per_part * 3:\n",
        "        apply_augmentation(augment_reverb, src_path, dst_path)\n",
        "    else:\n",
        "        apply_augmentation(augment_distortion, src_path, dst_path)\n",
        "\n",
        "print(\"sucess!\")"
      ],
      "metadata": {
        "colab": {
          "base_uri": "https://localhost:8080/"
        },
        "id": "DyEAQPT30cQk",
        "outputId": "58afa75f-65ad-4d89-ba0c-de36ef4fd4d1",
        "collapsed": true
      },
      "execution_count": null,
      "outputs": [
        {
          "output_type": "stream",
          "name": "stdout",
          "text": [
            "增强完成!\n"
          ]
        }
      ]
    },
    {
      "cell_type": "code",
      "source": [],
      "metadata": {
        "id": "JClvw_KB8Qdf"
      },
      "execution_count": null,
      "outputs": []
    }
  ]
}